{
  "nbformat": 4,
  "nbformat_minor": 0,
  "metadata": {
    "colab": {
      "name": "resturant_review.ipynb",
      "provenance": [],
      "collapsed_sections": []
    },
    "kernelspec": {
      "name": "python3",
      "display_name": "Python 3"
    }
  },
  "cells": [
    {
      "cell_type": "code",
      "metadata": {
        "id": "3b7BmLrOC2Zw",
        "colab": {
          "base_uri": "https://localhost:8080/"
        },
        "outputId": "fd439d89-67bc-4e71-eac9-cff8729d6de8"
      },
      "source": [
        "import nltk\r\n",
        "import pandas as pd\r\n",
        "import re\r\n",
        "import string\r\n",
        "from nltk.stem import WordNetLemmatizer \r\n",
        "import seaborn as sns\r\n",
        "import matplotlib.pyplot as plt\r\n",
        "from wordcloud import WordCloud\r\n",
        "import re\r\n",
        "import nltk\r\n",
        "from nltk.stem import WordNetLemmatizer\r\n",
        "nltk.download('punkt')\r\n",
        "nltk.download('stopwords')"
      ],
      "execution_count": 7,
      "outputs": [
        {
          "output_type": "stream",
          "text": [
            "[nltk_data] Downloading package punkt to /root/nltk_data...\n",
            "[nltk_data]   Package punkt is already up-to-date!\n",
            "[nltk_data] Downloading package stopwords to /root/nltk_data...\n",
            "[nltk_data]   Unzipping corpora/stopwords.zip.\n"
          ],
          "name": "stdout"
        },
        {
          "output_type": "execute_result",
          "data": {
            "text/plain": [
              "True"
            ]
          },
          "metadata": {
            "tags": []
          },
          "execution_count": 7
        }
      ]
    },
    {
      "cell_type": "code",
      "metadata": {
        "id": "Y8Bn2MCnbhgM"
      },
      "source": [
        "from sklearn.feature_extraction.text import TfidfVectorizer\r\n",
        "from sklearn.feature_extraction.text import CountVectorizer"
      ],
      "execution_count": 20,
      "outputs": []
    },
    {
      "cell_type": "code",
      "metadata": {
        "id": "0GB9XZe-FRxP"
      },
      "source": [
        "dataset = pd.read_csv('/content/sample_data/Restaurant_Reviews.tsv',delimiter='\\t',quoting=3)"
      ],
      "execution_count": 62,
      "outputs": []
    },
    {
      "cell_type": "code",
      "metadata": {
        "colab": {
          "base_uri": "https://localhost:8080/",
          "height": 197
        },
        "id": "cUep7MeGFnKb",
        "outputId": "f368331a-e554-4c85-99e6-d8f352e39459"
      },
      "source": [
        "dataset.head()"
      ],
      "execution_count": 4,
      "outputs": [
        {
          "output_type": "execute_result",
          "data": {
            "text/html": [
              "<div>\n",
              "<style scoped>\n",
              "    .dataframe tbody tr th:only-of-type {\n",
              "        vertical-align: middle;\n",
              "    }\n",
              "\n",
              "    .dataframe tbody tr th {\n",
              "        vertical-align: top;\n",
              "    }\n",
              "\n",
              "    .dataframe thead th {\n",
              "        text-align: right;\n",
              "    }\n",
              "</style>\n",
              "<table border=\"1\" class=\"dataframe\">\n",
              "  <thead>\n",
              "    <tr style=\"text-align: right;\">\n",
              "      <th></th>\n",
              "      <th>Review</th>\n",
              "      <th>Liked</th>\n",
              "    </tr>\n",
              "  </thead>\n",
              "  <tbody>\n",
              "    <tr>\n",
              "      <th>0</th>\n",
              "      <td>Wow... Loved this place.</td>\n",
              "      <td>1</td>\n",
              "    </tr>\n",
              "    <tr>\n",
              "      <th>1</th>\n",
              "      <td>Crust is not good.</td>\n",
              "      <td>0</td>\n",
              "    </tr>\n",
              "    <tr>\n",
              "      <th>2</th>\n",
              "      <td>Not tasty and the texture was just nasty.</td>\n",
              "      <td>0</td>\n",
              "    </tr>\n",
              "    <tr>\n",
              "      <th>3</th>\n",
              "      <td>Stopped by during the late May bank holiday of...</td>\n",
              "      <td>1</td>\n",
              "    </tr>\n",
              "    <tr>\n",
              "      <th>4</th>\n",
              "      <td>The selection on the menu was great and so wer...</td>\n",
              "      <td>1</td>\n",
              "    </tr>\n",
              "  </tbody>\n",
              "</table>\n",
              "</div>"
            ],
            "text/plain": [
              "                                              Review  Liked\n",
              "0                           Wow... Loved this place.      1\n",
              "1                                 Crust is not good.      0\n",
              "2          Not tasty and the texture was just nasty.      0\n",
              "3  Stopped by during the late May bank holiday of...      1\n",
              "4  The selection on the menu was great and so wer...      1"
            ]
          },
          "metadata": {
            "tags": []
          },
          "execution_count": 4
        }
      ]
    },
    {
      "cell_type": "code",
      "metadata": {
        "colab": {
          "base_uri": "https://localhost:8080/"
        },
        "id": "MRkLxlF7Foij",
        "outputId": "87ea4fba-146f-42af-8941-91d93a88e012"
      },
      "source": [
        "len(dataset)"
      ],
      "execution_count": 5,
      "outputs": [
        {
          "output_type": "execute_result",
          "data": {
            "text/plain": [
              "1000"
            ]
          },
          "metadata": {
            "tags": []
          },
          "execution_count": 5
        }
      ]
    },
    {
      "cell_type": "code",
      "metadata": {
        "id": "0aFpYA_yFvac"
      },
      "source": [
        "stopwords = nltk.corpus.stopwords.words('english')"
      ],
      "execution_count": 8,
      "outputs": []
    },
    {
      "cell_type": "code",
      "metadata": {
        "colab": {
          "base_uri": "https://localhost:8080/"
        },
        "id": "ivOvr5VoF687",
        "outputId": "fe12e7b1-c42b-4141-bb2f-c432a251d2aa"
      },
      "source": [
        "dataset.isnull().sum()"
      ],
      "execution_count": 9,
      "outputs": [
        {
          "output_type": "execute_result",
          "data": {
            "text/plain": [
              "Review    0\n",
              "Liked     0\n",
              "dtype: int64"
            ]
          },
          "metadata": {
            "tags": []
          },
          "execution_count": 9
        }
      ]
    },
    {
      "cell_type": "code",
      "metadata": {
        "colab": {
          "base_uri": "https://localhost:8080/"
        },
        "id": "sqIB6zOHGP0D",
        "outputId": "0e9c8e85-0c2d-414b-f24a-ce4cada33a43"
      },
      "source": [
        "dataset.dtypes"
      ],
      "execution_count": 11,
      "outputs": [
        {
          "output_type": "execute_result",
          "data": {
            "text/plain": [
              "Review    object\n",
              "Liked      int64\n",
              "dtype: object"
            ]
          },
          "metadata": {
            "tags": []
          },
          "execution_count": 11
        }
      ]
    },
    {
      "cell_type": "code",
      "metadata": {
        "id": "BHDlH12VGUaq"
      },
      "source": [
        "import string"
      ],
      "execution_count": 12,
      "outputs": []
    },
    {
      "cell_type": "code",
      "metadata": {
        "id": "NcoIZGKoHbUv"
      },
      "source": [
        "positive_review=''\r\n",
        "negative_review=''\r\n"
      ],
      "execution_count": 13,
      "outputs": []
    },
    {
      "cell_type": "code",
      "metadata": {
        "id": "JtL4BEvWH1Xn"
      },
      "source": [
        "for i in range(0,len(dataset)):\r\n",
        "    if dataset['Liked'][i]==1:\r\n",
        "        positive_review=positive_review+' '+dataset['Review'][i]\r\n",
        "    if dataset['Liked'][i]==0:\r\n",
        "        negative_review=negative_review+' '+dataset['Review'][i]"
      ],
      "execution_count": 16,
      "outputs": []
    },
    {
      "cell_type": "code",
      "metadata": {
        "colab": {
          "base_uri": "https://localhost:8080/",
          "height": 106
        },
        "id": "k90Fs9PXIild",
        "outputId": "af080b01-a063-4522-a78e-93e9432f0719"
      },
      "source": [
        "positive_review"
      ],
      "execution_count": 17,
      "outputs": [
        {
          "output_type": "execute_result",
          "data": {
            "application/vnd.google.colaboratory.intrinsic+json": {
              "type": "string"
            },
            "text/plain": [
              "' Wow... Loved this place. Stopped by during the late May bank holiday off Rick Steve recommendation and loved it. The selection on the menu was great and so were the prices. The fries were great too. A great touch. Service was very prompt. I tried the Cape Cod ravoli, chicken, with cranberry...mmmm! Highly recommended. The food, amazing. Service is also cute. I could care less... The interior is just beautiful. So they performed. That\\'s right....the red velvet cake.....ohhh this stuff is so good. This hole in the wall has great Mexican street tacos, and friendly staff. Also there are combos like a burger, fries, and beer for 23 which is a decent deal. I found this place by accident and I could not be happier. Overall, I like this place a lot. The only redeeming quality of the restaurant was that it was very inexpensive. Ample portions and good prices. My first visit to Hiro was a delight! The shrimp tender and moist. On a positive note, our server was very attentive and provided great service. The only thing I did like was the prime rib and dessert section. The burger is good beef, cooked just right. If you want a sandwich just go to any Firehouse!!!!! My side Greek salad with the Greek dressing was so tasty, and the pita and hummus was very refreshing. We ordered the duck rare and it was pink and tender on the inside with a nice char on the outside. He came running after us when he realized my husband had left his sunglasses on the table. Their chow mein is so good! The portion was huge! Loved it...friendly servers, great food, wonderful and imaginative menu. The salad had just the right amount of sauce to not over power the scallop, which was perfectly cooked. This place receives stars for their APPETIZERS!!! The cocktails are all handmade and delicious. We\\'d definitely go back here again. We are so glad we found this place. Great food and service, huge portions and they give a military discount. Always a great time at Dos Gringos! Update.....went back for a second time and it was still just as amazing A great way to finish a great. The deal included 5 tastings and 2 drinks, and Jeff went above and beyond what we expected. - Really, really good rice, all the time. The sweet potato fries were very good and seasoned well. Today is the second time I\\'ve been to their lunch buffet and it was pretty good. This place has it! I love the Pho and the spring rolls oh so yummy you have to try. All I have to say is the food was amazing!!! Omelets are to die for! Everything was fresh and delicious! It\\'s like a really sexy party in your mouth, where you\\'re outrageously flirting with the hottest person at the party. Best breakfast buffet!!! Will be back again! Food arrived quickly! On the up side, their cafe serves really good food. Our server was fantastic and when he found out the wife loves roasted garlic and bone marrow, he added extra to our meal and another marrow to go! The only good thing was our waiter, he was very helpful and kept the bloddy mary\\'s coming. Best Buffet in town, for the price you cannot beat it. I LOVED their mussels cooked in this wine reduction, the duck was tender, and their potato dishes were delicious. This is one of the better buffets that I have been to. So we went to Tigerlilly and had a fantastic afternoon! The food was delicious, our bartender was attentive and personable AND we got a great deal! The ambience is wonderful and there is music playing. Will go back next trip out. Sooooo good!! This is a really fantastic Thai restaurant which is definitely worth a visit. Nice, spicy and tender. Good prices. Check it out. Service was fine and the waitress was friendly. The guys all had steaks, and our steak loving son who has had steak at the best and worst places said it was the best steak he\\'s ever eaten. We thought you\\'d have to venture further away to get good sushi, but this place really hit the spot that night. Phenomenal food, service and ambiance. Definitely worth venturing off the strip for the pork belly, will return next time I\\'m in Vegas. Penne vodka excellent! They have a good selection of food including a massive meatloaf sandwich, a crispy chicken wrap, a delish tuna melt and some tasty burgers. Delicious NYC bagels, good selections of cream cheese, real Lox with capers even. Great Subway, in fact it\\'s so good when you come here every other Subway will not meet your expectations. I had a seriously solid breakfast here. This is one of the best bars with food in Vegas. My drink was never empty and he made some really great menu suggestions. Nice blanket of moz over top but i feel like this was done to cover up the subpar food. The bathrooms are clean and the place itself is well decorated. My fiancé and I came in the middle of the day and we were greeted and seated right away. This is a great restaurant at the Mandalay Bay. Some highlights : Great quality nigiri here! the staff is friendly and the joint is always clean. this was a different cut than the piece the other day but still wonderful and tender s well as well flavored. I ordered the Voodoo pasta and it was the first time I\\'d had really excellent pasta since going gluten free several years ago. this place is good. I was seated immediately. Their menu is diverse, and reasonably priced. Restaurant is always full but never a wait. DELICIOUS!! This place is hands-down one of the best places to eat in the Phoenix metro area. Bacon is hella salty. This really is how Vegas fine dining used to be, right down to the menus handed to the ladies that have no prices listed. The waitresses are very friendly. Lordy, the Khao Soi is a dish that is not to be missed for curry lovers! Everything on the menu is terrific and we were also thrilled that they made amazing accommodations for our vegetarian daughter. The atmosphere is modern and hip, while maintaining a touch of coziness. Not a weekly haunt, but definitely a place to come back to every once in a while. Love this place, hits the spot when I want something healthy but not lacking in quantity or flavor. I ordered the Lemon raspberry ice cocktail which was also incredible. Interesting decor. What I really like there is the crepe station. Also were served hot bread and butter, and home made potato chips with bacon bits on top....very original and very good. you can watch them preparing the delicious food!) Both of the egg rolls were fantastic. I had a salad with the wings, and some ice cream for dessert and left feeling quite satisfied. The best place to go for a tasty bowl of Pho! Very friendly staff. It is worth the drive. I had heard good things about this place, but it exceeding every hope I could have dreamed of. Food was great and so was the serivce! Great brunch spot. Service is friendly and inviting. Very good lunch spot. The sides are delish - mixed mushrooms, yukon gold puree, white corn - beateous. My friend loved the salmon tartar. Extremely Tasty! Waitress was good though! The Jamaican mojitos are delicious. - the food is rich so order accordingly. I loved the bacon wrapped dates. This is an unbelievable BARGAIN! The folks at Otto always make us feel so welcome and special. This is the place where I first had pho and it was amazing!! This wonderful experience made this place a must-stop whenever we are in town again. Very very fun chef. Great place to have a couple drinks and watch any and all sporting events as the walls are covered with TV\\'s. I\\'d say that would be the hardest decision... Honestly, all of M\\'s dishes taste how they are supposed to taste (amazing). Everyone is very attentive, providing excellent customer service. Now this dish was quite flavourful. Seriously flavorful delights, folks. Much better than the other AYCE sushi place I went to in Vegas. The lighting is just dark enough to set the mood. Owner\\'s are really great people.! The Greek dressing was very creamy and flavorful. Now the pizza itself was good the peanut sauce was very tasty. We had 7 at our table and the service was pretty fast. Fantastic service here. They know how to make them here. I hope this place sticks around. The restaurant atmosphere was exquisite. Good service, very clean, and inexpensive, to boot! The seafood was fresh and generous in portion. Plus, it\\'s only 8 bucks. Thus far, have only visited twice and the food was absolutely delicious each time. Just as good as when I had it more than a year ago! The Veggitarian platter is out of this world! You cant go wrong with any of the food here. You can\\'t beat that. Stopped by this place while in Madison for the Ironman, very friendly, kind staff. The chefs were friendly and did a good job. I liked the patio and the service was outstanding. The goat taco didn\\'t skimp on the meat and wow what FLAVOR! I went to Bachi Burger on a friend\\'s recommendation and was not disappointed. I would definitely recommend the wings as well as the pizza. Great Pizza and Salads! This place is amazing! The staff is great, the food is delish, and they have an incredible beer selection. I didn\\'t know pulled pork could be soooo delicious. You get incredibly fresh fish, prepared with care. I love the fact that everything on their menu is worth it. The food was excellent and service was very good. Good beer & drink selection and good food selection. Good Service-check! In the summer, you can dine in a charming outdoor patio - so very delightful. I did not expect this to be so good! Fantastic food! The food was very good. Great food for the price, which is very high quality and house made. Back to good BBQ, lighter fare, reasonable pricing and tell the public they are back to the old ways. And considering the two of us left there very full and happy for about $20, you just can\\'t go wrong. All the bread is made in-house! Service was exceptional and food was a good as all the reviews. A couple of months later, I returned and had an amazing meal. Favorite place in town for shawarrrrrrma!!!!!! The black eyed peas and sweet potatoes... UNREAL! You won\\'t be disappointed. They could serve it with just the vinaigrette and it may make for a better overall dish, but it was still very good. Both of them were truly unbelievably good, and I am so glad we went back. We had fantastic service, and were pleased by the atmosphere. I love this place. Great service and food. OMG, the food was delicioso! Of all the dishes, the salmon was the best, but all were great. The vegetables are so fresh and the sauce feels like authentic Thai. It\\'s worth driving up from Tucson! Pretty good beer selection too. This place is like Chipotle, but BETTER. Classy/warm atmosphere, fun and fresh appetizers, succulent steaks (Baseball steak!!!!! 5 stars for the brick oven bread app! I have eaten here multiple times, and each time the food was delicious. Everyone is treated equally special. It was delicious!!! On the good side, the staff was genuinely pleasant and enthusiastic - a real treat. As always the evening was wonderful and the food delicious! Best fish I\\'ve ever had in my life! (The bathroom is just next door and very nice.) This is an Outstanding little restaurant with some of the Best Food I have ever tasted. Pretty cool I would say. Server did a great job handling our large rowdy table. Would come back again if I had a sushi craving while in Vegas. The staff are great, the ambiance is great. He deserves 5 stars. The dining space is tiny, but elegantly decorated and comfortable. They will customize your order any way you\\'d like, my usual is Eggplant with Green Bean stir fry, love it! Best tacos in town by far!! In an interesting part of town, this place is amazing. They have great dinners. The service was outshining & I definitely recommend the Halibut. I will come back here every time I\\'m in Vegas. Def coming back to bowl next time If you want healthy authentic or ethic food, try this place. I will continue to come here on ladies night andddd date night ... highly recommend this place to anyone who is in the area. I have been here several times in the past, and the experience has always been great. We walked away stuffed and happy about our first Vegas buffet experience. Service was excellent and prices are pretty reasonable considering this is Vegas and located inside the Crystals shopping mall by Aria. To summarize... the food was incredible, nay, transcendant... but nothing brings me joy quite like the memory of the pneumatic condiment dispenser. Kids pizza is always a hit too with lots of great side dish options for the kiddos! Service is perfect and the family atmosphere is nice to see. Cooked to perfection and the service was impeccable. Great place to eat, reminds me of the little mom and pop shops in the San Francisco Bay Area. Today was my first taste of a Buldogis Gourmet Hot Dog and I have to tell you it was more than I ever thought possible. I\\'ll definitely be in soon again. Food was really good and I got full petty fast. Service was fantastic. I don\\'t know what kind it is but they have the best iced tea. Come hungry, leave happy and stuffed! I can assure you that you won\\'t be disappointed. I really enjoyed eating here. First time going but I think I will quickly become a regular. Our server was very nice, and even though he looked a little overwhelmed with all of our needs, he stayed professional and friendly until the end. From what my dinner companions told me...everything was very fresh with nice texture and taste. No complaints! This is some seriously good pizza and I\\'m an expert/connisseur on the topic. These are the nicest restaurant owners I\\'ve ever come across. We loved the biscuits!!! Service is quick and friendly. So absolutley fantastic. definitely will come back here again. I like Steiners because it\\'s dark and it feels like a bar. Wow very spicy but delicious. If you\\'re not familiar, check it out. I\\'d love to go back. Anyway, this FS restaurant has a wonderful breakfast/lunch. Each day of the week they have a different deal and it\\'s all so delicious! Not to mention the combination of pears, almonds and bacon is a big winner! The food is delicious and just spicy enough, so be sure to ask for spicier if you prefer it that way. My ribeye steak was cooked perfectly and had great mesquite flavor. Food was so gooodd. The food was very good and I enjoyed every mouthful, an enjoyable relaxed venue for couples small family groups etc. Nargile - I think you are great. Best tater tots in the southwest. We loved the place. The vanilla ice cream was creamy and smooth while the profiterole (choux) pastry was fresh enough. Im in AZ all the time and now have my new spot. The inside is really quite nice and very clean. The food was outstanding and the prices were very reasonable. Love the margaritas, too! This was my first and only Vegas buffet and it did not disappoint. Very good, though! Great pork sandwich. We enjoy their pizza and brunch. The steaks are all well trimmed and also perfectly cooked. We had a group of 70+ when we claimed we would only have 40 and they handled us beautifully. I LOVED it! This place is a jewel in Las Vegas, and exactly what I\\'ve been hoping to find in nearly ten years living here. Delicious and I will absolutely be back! This isn\\'t a small family restaurant, this is a fine dining establishment. They had a toro tartare with a cavier that was extraordinary and I liked the thinly sliced wagyu with white truffle. How awesome is that. I will be back many times soon. The menu had so much good stuff on it i could not decide! CONCLUSION: Very filling meals. Their daily specials are always a hit with my group. The pancake was also really good and pretty large at that. This was my first crawfish experience, and it was delicious! Their monster chicken fried steak and eggs is my all time favorite. Waitress was sweet and funny. I also had to taste my Mom\\'s multi-grain pumpkin pancakes with pecan butter and they were amazing, fluffy, and delicious! Cant say enough good things about this place. The ambiance was incredible. The waitress and manager are so friendly. I don\\'t each much pasta, but I love the homemade /hand made pastas and thin pizzas here. Give it a try, you will be happy you did. By far the BEST cheesecurds we have ever had! Reasonably priced also! Everything was perfect the night we were in. The food is very good for your typical bar food. At first glance it is a lovely bakery cafe - nice ambiance, clean, friendly staff. Point your finger at any item on the menu, order it and you won\\'t be disappointed. Oh this is such a thing of beauty, this restaurant. If you haven\\'t gone here GO NOW! Those burgers were amazing. Be sure to order dessert, even if you need to pack it to-go - the tiramisu and cannoli are both to die for. This was my first time and I can\\'t wait until the next. The bartender was also nice. Everything was good and tasty! This place is two thumbs up....way up. The best place in Vegas for breakfast (just check out a Sat, or Sun. If you love authentic Mexican food and want a whole bunch of interesting, yet delicious meats to choose from, you need to try this place. An excellent new restaurant by an experienced Frenchman. Great steak, great sides, great wine, amazing desserts. The steak and the shrimp are in my opinion the best entrees at GC. I had the opportunity today to sample your amazing pizzas! The yellowtail carpaccio was melt in your mouth fresh. Just spicy enough.. Perfect actually. Last night was my second time dining here and I was so happy I decided to go back! My boyfriend and I came here for the first time on a recent trip to Vegas and could not have been more pleased with the quality of food and service. I really do recommend this place, you can go wrong with this donut place! Nice ambiance. I would recommend saving room for this! All of the tapas dishes were delicious! I *heart* this place. A good time! I believe that this place is a great stop for those with a huge belly and hankering for sushi. Generous portions and great taste. Food was delicious! He also came back to check on us regularly, excellent service. Our server was super nice and checked on us many times. Service was good and the company was better! The staff are also very friendly and efficient. As for the service: I\\'m a fan, because it\\'s quick and you\\'re being served by some nice folks. Their steaks are 100% recommended! Great food and great service in a clean and friendly setting. All in all, I can assure you I\\'ll be back. My breakfast was perpared great, with a beautiful presentation of 3 giant slices of Toast, lightly dusted with powdered sugar. Great place fo take out or eat in. The waitress was friendly and happy to accomodate for vegan/veggie options. OMG I felt like I had never eaten Thai food until this dish. The croutons also taste homemade which is an extra plus. It\\'ll be a regular stop on my trips to Phoenix! I really enjoyed Crema Café before they expanded. I even told friends they had the BEST breakfast. I miss it and wish they had one in Philadelphia! They also have the best cheese crisp in town. Good value, great food, great service. Couldn\\'t ask for a more satisfying meal. The food is good. It was awesome. We made the drive all the way from North Scottsdale... and I was not one bit disappointed! An absolute must visit! The cow tongue and cheek tacos are amazing. They really want to make your experience a good one. The grilled chicken was so tender and yellow from the saffron seasoning. Pretty awesome place. Ambience is perfect. The staff is always super friendly and helpful, which is especially cool when you bring two small boys and a baby! Four stars for the food & the guy in the blue shirt for his great vibe & still letting us in to eat ! The roast beef sandwich tasted really good! High-quality chicken on the chicken Caesar salad. We were promptly greeted and seated. I was proven dead wrong by this sushi bar, not only because the quality is great, but the service is fast and the food, impeccable. This is a good joint. The Macarons here are insanely good. Our waiter was very attentive, friendly, and informative. Great food. Great place to relax and have an awesome burger and beer. It is PERFECT for a sit-down family meal or get together with a few friends. The patio seating was very comfortable. Hands down my favorite Italian restaurant! That just SCREAMS \"LEGIT\" in my book...somethat\\'s also pretty rare here in Vegas. It was just not a fun experience. The atmosphere was great with a lovely duo of violinists playing songs we requested. I personally love the hummus, pita, baklava, falafels and Baba Ganoush (it\\'s amazing what they do with eggplant!). Very convenient, since we were staying at the MGM! The owners are super friendly and the staff is courteous. Both great! Eclectic selection. The sweet potato tots were good but the onion rings were perfection or as close as I have had. The staff was very attentive. And the chef was generous with his time (even came around twice so we can take pictures with him). The owner used to work at Nobu, so this place is really similar for half the price. I promise they won\\'t disappoint. What a great double cheeseburger! Awesome service and food. A fantastic neighborhood gem !!! I can\\'t wait to go back. It\\'s a great place and I highly recommend it. I gave it 5 stars then, and I\\'m giving it 5 stars now. Dessert: Panna Cotta was amazing. Very good food, great atmosphere.1 Damn good steak. Prices are very reasonable, flavors are spot on, the sauce is home made, and the slaw is not drenched in mayo. The decor is nice, and the piano music soundtrack is pleasant. The steak was amazing...rge fillet relleno was the best seafood plate i have ever had! Good food , good service . It was absolutely amazing. will definitely be back! The sergeant pepper beef sandwich with auju sauce is an excellent sandwich as well. Hawaiian Breeze, Mango Magic, and Pineapple Delight are the smoothies that I\\'ve tried so far and they\\'re all good. Have been going since 2007 and every meal has been awesome!! Our server was very nice and attentive as were the other serving staff. The cashier was friendly and even brought the food out to me. The atmosphere here is fun. Service is quick and even \"to go\" orders are just like we like it! That said, our mouths and bellies were still quite pleased. 2 Thumbs Up!! I loved the grilled pizza, reminded me of legit Italian pizza. Only Pros : Large seating area/ Nice bar area/ Great simple drink menu/ The BEST brick oven pizza with homemade dough! They have a really nice atmosphere. After one bite, I was hooked. Cute, quaint, simple, honest. The chicken was deliciously seasoned and had the perfect fry on the outside and moist chicken on the inside. The food was great as always, compliments to the chef. Special thanks to Dylan T. for the recommendation on what to order :) All yummy for my tummy. Awesome selection of beer. Great food and awesome service! One nice thing was that they added gratuity on the bill since our party was larger than 6 or 8, and they didn\\'t expect more tip than that. The Han Nan Chicken was also very tasty. As for the service, I thought it was good. Nicest Chinese restaurant I\\'ve been in a while. Overall, I like there food and the service. They also now serve Indian naan bread with hummus and some spicy pine nut sauce that was out of this world. Try them in the airport to experience some tasty food and speedy, friendly service. I love the decor with the Chinese calligraphy wall paper. Never had anything to complain about here. The restaurant is very clean and has a family restaurant feel to it. There was a warm feeling with the service and I felt like their guest for a special treat. An extensive menu provides lots of options for breakfast. I always order from the vegetarian menu during dinner, which has a wide array of options to choose from. Wonderful lil tapas and the ambience made me feel all warm and fuzzy inside. I got to enjoy the seafood salad, with a fabulous vinegrette. The wontons were thin, not thick and chewy, almost melt in your mouth. Level 5 spicy was perfect, where spice didn\\'t over-whelm the soup. We were sat right on time and our server from the get go was FANTASTIC! When I\\'m on this side of town, this will definitely be a spot I\\'ll hit up again! This is a GREAT place to eat! The jalapeno bacon is soooo good. Food was good, service was good, Prices were good. I\\'m so happy to be here!!!\" One of the few places in Phoenix that I would definately go back to again . The block was amazing. It\\'s close to my house, it\\'s low-key, non-fancy, affordable prices, good food. * Both the Hot & Sour & the Egg Flower Soups were absolutely 5 Stars! Great time - family dinner on a Sunday night. The flair bartenders are absolutely amazing! These were so good we ordered them twice. I had a pretty satifying experience. Join the club and get awesome offers via email. Perfect for someone (me) who only likes beer ice cold, or in this case, even colder. The nachos are a MUST HAVE! I don\\'t have very many words to say about this place, but it does everything pretty well. The staff is super nice and very quick even with the crazy crowds of the downtown juries, lawyers, and court staff. Great atmosphere, friendly and fast service. When I received my Pita it was huge it did have a lot of meat in it so thumbs up there. The classic Maine Lobster Roll was fantastic. So good I am going to have to review this place twice - once hereas a tribute to the place and once as a tribute to an event held here last night. The chips and salsa were really good, the salsa was very fresh. This place is great!!!!!!!!!!!!!! Once you get inside you\\'ll be impressed with the place. And service was super friendly. This place was such a nice surprise! They were golden-crispy and delicious. I could eat their bruschetta all day it is devine. Lastly, the mozzarella sticks, they were the best thing we ordered. The first time I ever came here I had an amazing experience, I still tell people how awesome the duck was. I love this place. I can say that the desserts were yummy. The seasonal fruit was fresh white peach puree. I love that they put their food in nice plastic containers as opposed to cramming it in little paper takeout boxes. The crêpe was delicate and thin and moist. Best service and food ever, Maria our server was so good and friendly she made our day. They were excellent. Just had lunch here and had a great experience. I recently tried Caballero\\'s and I have been back every week since! The food came out at a good pace. I ate there twice on my last visit, and especially enjoyed the salmon salad. In fact I\\'m going to round up to 4 stars, just because she was so awesome. the potatoes were great and so was the biscuit. So flavorful and has just the perfect amount of heat. The price is reasonable and the service is great. Went in for happy hour, great list of wines. Some may say this buffet is pricey but I think you get what you pay for and this place you are getting quite a lot! This place is pretty good, nice little vibe in the restaurant. Talk about great customer service of course we will be back. I love their fries and their beans. Always a pleasure dealing with him. They have a plethora of salads and sandwiches, and everything I\\'ve tried gets my seal of approval. This place is awesome if you want something light and healthy during the summer. For sushi on the Strip, this is the place to go. The service was great, even the manager came and helped with our table. All in all an excellent restaurant highlighted by great service, a unique menu, and a beautiful setting. My boyfriend and i sat at the bar and had a completely delightful experience. Go To Place for Gyros. I love the owner/chef, his one authentic Japanese cool dude! We definately enjoyed ourselves. Seriously killer hot chai latte. My boyfriend tried the Mediterranean Chicken Salad and fell in love. Their rotating beers on tap is also a highlight of this place. If you stay in Vegas you must get breakfast here at least once. I want to first say our server was great and we had perfect service. The pizza selections are good. I had strawberry tea, which was good. Overall, a great experience. Their regular toasted bread was equally satisfying with the occasional pats of butter... Mmmm...! The chips and sals a here is amazing!!!!!!!!!!!!!!!!!!! This is my new fav Vegas buffet spot. Every time I eat here, I see caring teamwork to a professional degree.'"
            ]
          },
          "metadata": {
            "tags": []
          },
          "execution_count": 17
        }
      ]
    },
    {
      "cell_type": "code",
      "metadata": {
        "id": "KrZ2v76II8Vj"
      },
      "source": [
        "positive_review_nopunct = ''.join([char for char in positive_review if char not in string.punctuation])"
      ],
      "execution_count": 18,
      "outputs": []
    },
    {
      "cell_type": "code",
      "metadata": {
        "colab": {
          "base_uri": "https://localhost:8080/",
          "height": 247
        },
        "id": "pDAhfLYCbJwz",
        "outputId": "defe70a0-acd2-437f-9fd8-c7c368a77291"
      },
      "source": [
        "wordcloud1= WordCloud(stopwords=stopwords,background_color='white',width=6000,height=4000).generate(positive_review_nopunct)\r\n",
        "plt.imshow(wordcloud1)\r\n",
        "plt.axis('off')\r\n",
        "plt.show()"
      ],
      "execution_count": 23,
      "outputs": [
        {
          "output_type": "display_data",
          "data": {
            "image/png": "[encoded data removed]",
            "text/plain": [
              "<Figure size 432x288 with 1 Axes>"
            ]
          },
          "metadata": {
            "tags": [],
            "needs_background": "light"
          }
        }
      ]
    },
    {
      "cell_type": "code",
      "metadata": {
        "colab": {
          "base_uri": "https://localhost:8080/"
        },
        "id": "SobJ3W4vcHdn",
        "outputId": "f0138415-bfc6-40c9-90e4-e43e421db80d"
      },
      "source": [
        "dataset.Liked.value_counts()"
      ],
      "execution_count": 24,
      "outputs": [
        {
          "output_type": "execute_result",
          "data": {
            "text/plain": [
              "1    500\n",
              "0    500\n",
              "Name: Liked, dtype: int64"
            ]
          },
          "metadata": {
            "tags": []
          },
          "execution_count": 24
        }
      ]
    },
    {
      "cell_type": "code",
      "metadata": {
        "id": "4sCvL_IheFwl"
      },
      "source": [
        "from sklearn.naive_bayes import MultinomialNB\r\n",
        "from sklearn.feature_extraction.text import TfidfVectorizer\r\n",
        "from nltk.tokenize import word_tokenize,TreebankWordTokenizer\r\n",
        "from nltk.stem.wordnet import WordNetLemmatizer\r\n",
        "lemma = WordNetLemmatizer()\r\n",
        "tokenize = TreebankWordTokenizer()"
      ],
      "execution_count": 40,
      "outputs": []
    },
    {
      "cell_type": "code",
      "metadata": {
        "id": "GeWU9HoseQSK"
      },
      "source": [
        ""
      ],
      "execution_count": 39,
      "outputs": []
    },
    {
      "cell_type": "code",
      "metadata": {
        "id": "U-uYmUzwfHuC"
      },
      "source": [
        "def preprocessed(dataset):\r\n",
        "    for i in range(dataset.shape[0]):\r\n",
        "        dataset['Review'][i]=tokenize.tokenize(str(dataset['Review'][i]))\r\n",
        "        dataset['Review'][i]=([token.lower() for token in dataset['Review'][i] if token not in stopwords])\r\n",
        "        dataset['Review'][i] = ([token for token in dataset.Review[i] if token not in string.punctuation])\r\n",
        "        dataset['Review'][i] = \" \".join([lemma.lemmatize(token) for token in dataset['Review'][i]]).strip()\r\n",
        "    return dataset"
      ],
      "execution_count": 63,
      "outputs": []
    },
    {
      "cell_type": "code",
      "metadata": {
        "colab": {
          "base_uri": "https://localhost:8080/"
        },
        "id": "wkgNB1t3i1Y0",
        "outputId": "cc24240e-9e33-497b-f7f1-80b33564156f"
      },
      "source": [
        "nltk.download('wordnet')"
      ],
      "execution_count": 49,
      "outputs": [
        {
          "output_type": "stream",
          "text": [
            "[nltk_data] Downloading package wordnet to /root/nltk_data...\n",
            "[nltk_data]   Package wordnet is already up-to-date!\n"
          ],
          "name": "stdout"
        },
        {
          "output_type": "execute_result",
          "data": {
            "text/plain": [
              "True"
            ]
          },
          "metadata": {
            "tags": []
          },
          "execution_count": 49
        }
      ]
    },
    {
      "cell_type": "code",
      "metadata": {
        "id": "QNznmZw1idPM"
      },
      "source": [
        "def preprocessed(dataset):\r\n",
        "    for i in range(dataset.shape[0]):\r\n",
        "        dataset['Review'][i]=tokenize.tokenize(str(dataset['Review'][i]))\r\n",
        "        dataset['Review'][i]=([token.lower() for token in dataset['Review'][i] if token not in stopwords])"
      ],
      "execution_count": 55,
      "outputs": []
    },
    {
      "cell_type": "code",
      "metadata": {
        "colab": {
          "base_uri": "https://localhost:8080/",
          "height": 762
        },
        "id": "OQtNyQW0mBkB",
        "outputId": "aaa4b3da-4fd2-4e81-d3dd-eaed4ed4f27a"
      },
      "source": [
        "preprocessed(dataset)"
      ],
      "execution_count": 64,
      "outputs": [
        {
          "output_type": "stream",
          "text": [
            "/usr/local/lib/python3.6/dist-packages/ipykernel_launcher.py:3: SettingWithCopyWarning: \n",
            "A value is trying to be set on a copy of a slice from a DataFrame\n",
            "\n",
            "See the caveats in the documentation: https://pandas.pydata.org/pandas-docs/stable/user_guide/indexing.html#returning-a-view-versus-a-copy\n",
            "  This is separate from the ipykernel package so we can avoid doing imports until\n",
            "/usr/local/lib/python3.6/dist-packages/ipykernel_launcher.py:4: SettingWithCopyWarning: \n",
            "A value is trying to be set on a copy of a slice from a DataFrame\n",
            "\n",
            "See the caveats in the documentation: https://pandas.pydata.org/pandas-docs/stable/user_guide/indexing.html#returning-a-view-versus-a-copy\n",
            "  after removing the cwd from sys.path.\n",
            "/usr/local/lib/python3.6/dist-packages/ipykernel_launcher.py:5: SettingWithCopyWarning: \n",
            "A value is trying to be set on a copy of a slice from a DataFrame\n",
            "\n",
            "See the caveats in the documentation: https://pandas.pydata.org/pandas-docs/stable/user_guide/indexing.html#returning-a-view-versus-a-copy\n",
            "  \"\"\"\n",
            "/usr/local/lib/python3.6/dist-packages/ipykernel_launcher.py:6: SettingWithCopyWarning: \n",
            "A value is trying to be set on a copy of a slice from a DataFrame\n",
            "\n",
            "See the caveats in the documentation: https://pandas.pydata.org/pandas-docs/stable/user_guide/indexing.html#returning-a-view-versus-a-copy\n",
            "  \n"
          ],
          "name": "stderr"
        },
        {
          "output_type": "execute_result",
          "data": {
            "text/html": [
              "<div>\n",
              "<style scoped>\n",
              "    .dataframe tbody tr th:only-of-type {\n",
              "        vertical-align: middle;\n",
              "    }\n",
              "\n",
              "    .dataframe tbody tr th {\n",
              "        vertical-align: top;\n",
              "    }\n",
              "\n",
              "    .dataframe thead th {\n",
              "        text-align: right;\n",
              "    }\n",
              "</style>\n",
              "<table border=\"1\" class=\"dataframe\">\n",
              "  <thead>\n",
              "    <tr style=\"text-align: right;\">\n",
              "      <th></th>\n",
              "      <th>Review</th>\n",
              "      <th>Liked</th>\n",
              "    </tr>\n",
              "  </thead>\n",
              "  <tbody>\n",
              "    <tr>\n",
              "      <th>0</th>\n",
              "      <td>wow ... loved place</td>\n",
              "      <td>1</td>\n",
              "    </tr>\n",
              "    <tr>\n",
              "      <th>1</th>\n",
              "      <td>crust good</td>\n",
              "      <td>0</td>\n",
              "    </tr>\n",
              "    <tr>\n",
              "      <th>2</th>\n",
              "      <td>not tasty texture nasty</td>\n",
              "      <td>0</td>\n",
              "    </tr>\n",
              "    <tr>\n",
              "      <th>3</th>\n",
              "      <td>stopped late may bank holiday rick steve recom...</td>\n",
              "      <td>1</td>\n",
              "    </tr>\n",
              "    <tr>\n",
              "      <th>4</th>\n",
              "      <td>the selection menu great price</td>\n",
              "      <td>1</td>\n",
              "    </tr>\n",
              "    <tr>\n",
              "      <th>...</th>\n",
              "      <td>...</td>\n",
              "      <td>...</td>\n",
              "    </tr>\n",
              "    <tr>\n",
              "      <th>995</th>\n",
              "      <td>i think food flavor texture lacking</td>\n",
              "      <td>0</td>\n",
              "    </tr>\n",
              "    <tr>\n",
              "      <th>996</th>\n",
              "      <td>appetite instantly gone</td>\n",
              "      <td>0</td>\n",
              "    </tr>\n",
              "    <tr>\n",
              "      <th>997</th>\n",
              "      <td>overall i impressed would go back</td>\n",
              "      <td>0</td>\n",
              "    </tr>\n",
              "    <tr>\n",
              "      <th>998</th>\n",
              "      <td>the whole experience underwhelming i think 'll...</td>\n",
              "      <td>0</td>\n",
              "    </tr>\n",
              "    <tr>\n",
              "      <th>999</th>\n",
              "      <td>then i n't wasted enough life poured salt woun...</td>\n",
              "      <td>0</td>\n",
              "    </tr>\n",
              "  </tbody>\n",
              "</table>\n",
              "<p>1000 rows × 2 columns</p>\n",
              "</div>"
            ],
            "text/plain": [
              "                                                Review  Liked\n",
              "0                                  wow ... loved place      1\n",
              "1                                           crust good      0\n",
              "2                              not tasty texture nasty      0\n",
              "3    stopped late may bank holiday rick steve recom...      1\n",
              "4                       the selection menu great price      1\n",
              "..                                                 ...    ...\n",
              "995                i think food flavor texture lacking      0\n",
              "996                            appetite instantly gone      0\n",
              "997                  overall i impressed would go back      0\n",
              "998  the whole experience underwhelming i think 'll...      0\n",
              "999  then i n't wasted enough life poured salt woun...      0\n",
              "\n",
              "[1000 rows x 2 columns]"
            ]
          },
          "metadata": {
            "tags": []
          },
          "execution_count": 64
        }
      ]
    },
    {
      "cell_type": "code",
      "metadata": {
        "colab": {
          "base_uri": "https://localhost:8080/",
          "height": 197
        },
        "id": "eAK0B4SzmuPG",
        "outputId": "faf550de-cefd-412e-bb03-7905a0aa64c3"
      },
      "source": [
        "dataset.head()"
      ],
      "execution_count": 67,
      "outputs": [
        {
          "output_type": "execute_result",
          "data": {
            "text/html": [
              "<div>\n",
              "<style scoped>\n",
              "    .dataframe tbody tr th:only-of-type {\n",
              "        vertical-align: middle;\n",
              "    }\n",
              "\n",
              "    .dataframe tbody tr th {\n",
              "        vertical-align: top;\n",
              "    }\n",
              "\n",
              "    .dataframe thead th {\n",
              "        text-align: right;\n",
              "    }\n",
              "</style>\n",
              "<table border=\"1\" class=\"dataframe\">\n",
              "  <thead>\n",
              "    <tr style=\"text-align: right;\">\n",
              "      <th></th>\n",
              "      <th>Review</th>\n",
              "      <th>Liked</th>\n",
              "    </tr>\n",
              "  </thead>\n",
              "  <tbody>\n",
              "    <tr>\n",
              "      <th>0</th>\n",
              "      <td>wow  loved place</td>\n",
              "      <td>1</td>\n",
              "    </tr>\n",
              "    <tr>\n",
              "      <th>1</th>\n",
              "      <td>crust good</td>\n",
              "      <td>0</td>\n",
              "    </tr>\n",
              "    <tr>\n",
              "      <th>2</th>\n",
              "      <td>not tasty texture nasty</td>\n",
              "      <td>0</td>\n",
              "    </tr>\n",
              "    <tr>\n",
              "      <th>3</th>\n",
              "      <td>stopped late may bank holiday rick steve recom...</td>\n",
              "      <td>1</td>\n",
              "    </tr>\n",
              "    <tr>\n",
              "      <th>4</th>\n",
              "      <td>the selection menu great price</td>\n",
              "      <td>1</td>\n",
              "    </tr>\n",
              "  </tbody>\n",
              "</table>\n",
              "</div>"
            ],
            "text/plain": [
              "                                              Review  Liked\n",
              "0                                   wow  loved place      1\n",
              "1                                         crust good      0\n",
              "2                            not tasty texture nasty      0\n",
              "3  stopped late may bank holiday rick steve recom...      1\n",
              "4                     the selection menu great price      1"
            ]
          },
          "metadata": {
            "tags": []
          },
          "execution_count": 67
        }
      ]
    },
    {
      "cell_type": "code",
      "metadata": {
        "colab": {
          "base_uri": "https://localhost:8080/"
        },
        "id": "IcJvOTJHmxHW",
        "outputId": "882b7d24-5d19-4165-ed85-1e1a7d70802d"
      },
      "source": [
        "for i in range(dataset.shape[0]):\r\n",
        "        dataset['Review'][i]=dataset['Review'][i].replace('...','')"
      ],
      "execution_count": 66,
      "outputs": [
        {
          "output_type": "stream",
          "text": [
            "/usr/local/lib/python3.6/dist-packages/ipykernel_launcher.py:2: SettingWithCopyWarning: \n",
            "A value is trying to be set on a copy of a slice from a DataFrame\n",
            "\n",
            "See the caveats in the documentation: https://pandas.pydata.org/pandas-docs/stable/user_guide/indexing.html#returning-a-view-versus-a-copy\n",
            "  \n"
          ],
          "name": "stderr"
        }
      ]
    },
    {
      "cell_type": "code",
      "metadata": {
        "id": "qE3_mwGPtiUl"
      },
      "source": [
        ""
      ],
      "execution_count": 89,
      "outputs": []
    },
    {
      "cell_type": "code",
      "metadata": {
        "id": "YqNlurfCoSw8"
      },
      "source": [
        "from sklearn.model_selection import train_test_split\r\n",
        "train,validation= train_test_split(dataset,test_size=0.3,random_state=2)"
      ],
      "execution_count": 90,
      "outputs": []
    },
    {
      "cell_type": "code",
      "metadata": {
        "colab": {
          "base_uri": "https://localhost:8080/"
        },
        "id": "0FoVprAho56h",
        "outputId": "f5e7998a-5415-4685-e812-6c9966c94956"
      },
      "source": [
        "train.shape"
      ],
      "execution_count": 91,
      "outputs": [
        {
          "output_type": "execute_result",
          "data": {
            "text/plain": [
              "(700, 2)"
            ]
          },
          "metadata": {
            "tags": []
          },
          "execution_count": 91
        }
      ]
    },
    {
      "cell_type": "code",
      "metadata": {
        "id": "BNYYUWy1pGiA"
      },
      "source": [
        "train.reset_index(drop=True,inplace=True)\r\n",
        "validation.reset_index(drop=True,inplace=True)"
      ],
      "execution_count": 92,
      "outputs": []
    },
    {
      "cell_type": "code",
      "metadata": {
        "colab": {
          "base_uri": "https://localhost:8080/",
          "height": 197
        },
        "id": "Lv1Pj8iUqgGs",
        "outputId": "2e5f68f5-ff15-42e1-b122-45bedd9866b7"
      },
      "source": [
        "train.head()"
      ],
      "execution_count": 93,
      "outputs": [
        {
          "output_type": "execute_result",
          "data": {
            "text/html": [
              "<div>\n",
              "<style scoped>\n",
              "    .dataframe tbody tr th:only-of-type {\n",
              "        vertical-align: middle;\n",
              "    }\n",
              "\n",
              "    .dataframe tbody tr th {\n",
              "        vertical-align: top;\n",
              "    }\n",
              "\n",
              "    .dataframe thead th {\n",
              "        text-align: right;\n",
              "    }\n",
              "</style>\n",
              "<table border=\"1\" class=\"dataframe\">\n",
              "  <thead>\n",
              "    <tr style=\"text-align: right;\">\n",
              "      <th></th>\n",
              "      <th>Review</th>\n",
              "      <th>Liked</th>\n",
              "    </tr>\n",
              "  </thead>\n",
              "  <tbody>\n",
              "    <tr>\n",
              "      <th>0</th>\n",
              "      <td>in summary largely disappointing dining experi...</td>\n",
              "      <td>0</td>\n",
              "    </tr>\n",
              "    <tr>\n",
              "      <th>1</th>\n",
              "      <td>this greedy corporation never see another dime</td>\n",
              "      <td>0</td>\n",
              "    </tr>\n",
              "    <tr>\n",
              "      <th>2</th>\n",
              "      <td>bland  not liking place number reason i n't wa...</td>\n",
              "      <td>0</td>\n",
              "    </tr>\n",
              "    <tr>\n",
              "      <th>3</th>\n",
              "      <td>after rave review i could n't wait eat   disap...</td>\n",
              "      <td>0</td>\n",
              "    </tr>\n",
              "    <tr>\n",
              "      <th>4</th>\n",
              "      <td>avoid cost</td>\n",
              "      <td>0</td>\n",
              "    </tr>\n",
              "  </tbody>\n",
              "</table>\n",
              "</div>"
            ],
            "text/plain": [
              "                                              Review  Liked\n",
              "0  in summary largely disappointing dining experi...      0\n",
              "1     this greedy corporation never see another dime      0\n",
              "2  bland  not liking place number reason i n't wa...      0\n",
              "3  after rave review i could n't wait eat   disap...      0\n",
              "4                                         avoid cost      0"
            ]
          },
          "metadata": {
            "tags": []
          },
          "execution_count": 93
        }
      ]
    },
    {
      "cell_type": "code",
      "metadata": {
        "id": "T6GmGtrwpMDZ"
      },
      "source": [
        "cv = CountVectorizer(max_features=2000)\r\n",
        "tfidf = TfidfVectorizer()"
      ],
      "execution_count": 94,
      "outputs": []
    },
    {
      "cell_type": "code",
      "metadata": {
        "colab": {
          "base_uri": "https://localhost:8080/"
        },
        "id": "dFPRjiH-rAQG",
        "outputId": "f43abd3e-0cea-4199-8ccd-ac15b026b695"
      },
      "source": [
        "tfidf.fit(train['Review'])"
      ],
      "execution_count": 95,
      "outputs": [
        {
          "output_type": "execute_result",
          "data": {
            "text/plain": [
              "TfidfVectorizer(analyzer='word', binary=False, decode_error='strict',\n",
              "                dtype=<class 'numpy.float64'>, encoding='utf-8',\n",
              "                input='content', lowercase=True, max_df=1.0, max_features=None,\n",
              "                min_df=1, ngram_range=(1, 1), norm='l2', preprocessor=None,\n",
              "                smooth_idf=True, stop_words=None, strip_accents=None,\n",
              "                sublinear_tf=False, token_pattern='(?u)\\\\b\\\\w\\\\w+\\\\b',\n",
              "                tokenizer=None, use_idf=True, vocabulary=None)"
            ]
          },
          "metadata": {
            "tags": []
          },
          "execution_count": 95
        }
      ]
    },
    {
      "cell_type": "code",
      "metadata": {
        "id": "tiVVD0NLrEJE"
      },
      "source": [
        "train_tfidf=tfidf.transform(train['Review'])"
      ],
      "execution_count": 98,
      "outputs": []
    },
    {
      "cell_type": "code",
      "metadata": {
        "id": "7_CiyqEutugL"
      },
      "source": [
        ""
      ],
      "execution_count": 99,
      "outputs": []
    },
    {
      "cell_type": "code",
      "metadata": {
        "id": "4YUQGEaCrIPM"
      },
      "source": [
        "valid_tfidf= tfidf.transform(validation['Review'])"
      ],
      "execution_count": 100,
      "outputs": []
    },
    {
      "cell_type": "markdown",
      "metadata": {
        "id": "NlI4yKsTuZGb"
      },
      "source": [
        "Multinomial NB"
      ]
    },
    {
      "cell_type": "code",
      "metadata": {
        "colab": {
          "base_uri": "https://localhost:8080/"
        },
        "id": "ltetjfGzrSr8",
        "outputId": "98dfbcd4-a52c-457c-d957-fd164df941c3"
      },
      "source": [
        "mulNB= MultinomialNB()\r\n",
        "mulNB.fit(train_tfidf,train['Liked'])"
      ],
      "execution_count": 101,
      "outputs": [
        {
          "output_type": "execute_result",
          "data": {
            "text/plain": [
              "MultinomialNB(alpha=1.0, class_prior=None, fit_prior=True)"
            ]
          },
          "metadata": {
            "tags": []
          },
          "execution_count": 101
        }
      ]
    },
    {
      "cell_type": "code",
      "metadata": {
        "id": "sN8qfMSMrY9z"
      },
      "source": [
        "predictions=pd.DataFrame(list(zip(validation['Liked'],mulNB.predict(valid_tfidf))),columns=['real','predicted'])"
      ],
      "execution_count": 102,
      "outputs": []
    },
    {
      "cell_type": "code",
      "metadata": {
        "id": "lr0w0BwjrxQL"
      },
      "source": [
        ""
      ],
      "execution_count": 119,
      "outputs": []
    },
    {
      "cell_type": "code",
      "metadata": {
        "id": "77s2ZwJmryu0"
      },
      "source": [
        "from sklearn.metrics import confusion_matrix"
      ],
      "execution_count": 104,
      "outputs": []
    },
    {
      "cell_type": "code",
      "metadata": {
        "colab": {
          "base_uri": "https://localhost:8080/"
        },
        "id": "K-7TX-ikr9Rz",
        "outputId": "8fbb60a2-15eb-43f1-e116-754ed94c305a"
      },
      "source": [
        "confusion_matrix(predictions['real'],predictions['predicted'])"
      ],
      "execution_count": 105,
      "outputs": [
        {
          "output_type": "execute_result",
          "data": {
            "text/plain": [
              "array([[111,  40],\n",
              "       [ 24, 125]])"
            ]
          },
          "metadata": {
            "tags": []
          },
          "execution_count": 105
        }
      ]
    },
    {
      "cell_type": "code",
      "metadata": {
        "id": "hBXiV_opsGQS"
      },
      "source": [
        "from sklearn.metrics import accuracy_score"
      ],
      "execution_count": 84,
      "outputs": []
    },
    {
      "cell_type": "code",
      "metadata": {
        "colab": {
          "base_uri": "https://localhost:8080/"
        },
        "id": "vY9F798yscwZ",
        "outputId": "8eee05b1-030c-436f-c577-5c850a9e7d81"
      },
      "source": [
        "accuracy_score(predictions['real'],predictions['predicted'])*100"
      ],
      "execution_count": 111,
      "outputs": [
        {
          "output_type": "execute_result",
          "data": {
            "text/plain": [
              "78.66666666666666"
            ]
          },
          "metadata": {
            "tags": []
          },
          "execution_count": 111
        }
      ]
    },
    {
      "cell_type": "code",
      "metadata": {
        "id": "-OPSO6pXsg-q"
      },
      "source": [
        "from sklearn.metrics import precision_score"
      ],
      "execution_count": 107,
      "outputs": []
    },
    {
      "cell_type": "code",
      "metadata": {
        "colab": {
          "base_uri": "https://localhost:8080/"
        },
        "id": "vUF0x0TBtR3Y",
        "outputId": "0b097423-ee5f-451c-d6a3-7926f469323d"
      },
      "source": [
        "precision_score(predictions['real'],predictions['predicted'])*100"
      ],
      "execution_count": 112,
      "outputs": [
        {
          "output_type": "execute_result",
          "data": {
            "text/plain": [
              "75.75757575757575"
            ]
          },
          "metadata": {
            "tags": []
          },
          "execution_count": 112
        }
      ]
    },
    {
      "cell_type": "markdown",
      "metadata": {
        "id": "aE1s_YKAwDYa"
      },
      "source": [
        "Logistic Regression"
      ]
    },
    {
      "cell_type": "code",
      "metadata": {
        "id": "YfzQaM4stVgH"
      },
      "source": [
        "from sklearn.linear_model import LogisticRegression"
      ],
      "execution_count": 114,
      "outputs": []
    },
    {
      "cell_type": "code",
      "metadata": {
        "id": "2sqp6IEcuzpt"
      },
      "source": [
        "clf = LogisticRegression(C=1.5)"
      ],
      "execution_count": 115,
      "outputs": []
    },
    {
      "cell_type": "code",
      "metadata": {
        "colab": {
          "base_uri": "https://localhost:8080/"
        },
        "id": "fNtVVH_YvmcD",
        "outputId": "927ace83-5193-4699-c7f4-fa68cc95b9c4"
      },
      "source": [
        "clf.fit(train_tfidf,train['Liked'])"
      ],
      "execution_count": 116,
      "outputs": [
        {
          "output_type": "execute_result",
          "data": {
            "text/plain": [
              "LogisticRegression(C=1.5, class_weight=None, dual=False, fit_intercept=True,\n",
              "                   intercept_scaling=1, l1_ratio=None, max_iter=100,\n",
              "                   multi_class='auto', n_jobs=None, penalty='l2',\n",
              "                   random_state=None, solver='lbfgs', tol=0.0001, verbose=0,\n",
              "                   warm_start=False)"
            ]
          },
          "metadata": {
            "tags": []
          },
          "execution_count": 116
        }
      ]
    },
    {
      "cell_type": "code",
      "metadata": {
        "id": "PE5pvbM8vq4i"
      },
      "source": [
        "predictions_lr=pd.DataFrame(list(zip(validation['Liked'],clf.predict(valid_tfidf))),columns=['real','predicted'])"
      ],
      "execution_count": 117,
      "outputs": []
    },
    {
      "cell_type": "code",
      "metadata": {
        "colab": {
          "base_uri": "https://localhost:8080/"
        },
        "id": "ij4C8TQ5vynC",
        "outputId": "cf3aa79a-6cbe-4e63-da66-cc04004a4a1f"
      },
      "source": [
        "accuracy_score(predictions_lr['real'],predictions_lr['predicted'])*100"
      ],
      "execution_count": 118,
      "outputs": [
        {
          "output_type": "execute_result",
          "data": {
            "text/plain": [
              "77.66666666666666"
            ]
          },
          "metadata": {
            "tags": []
          },
          "execution_count": 118
        }
      ]
    },
    {
      "cell_type": "code",
      "metadata": {
        "colab": {
          "base_uri": "https://localhost:8080/"
        },
        "id": "lVJluDKPv28p",
        "outputId": "31059bcd-0b37-4449-91dc-bc80e48d6dc3"
      },
      "source": [
        "confusion_matrix(predictions_lr['real'],predictions_lr['predicted'])"
      ],
      "execution_count": 119,
      "outputs": [
        {
          "output_type": "execute_result",
          "data": {
            "text/plain": [
              "array([[122,  29],\n",
              "       [ 38, 111]])"
            ]
          },
          "metadata": {
            "tags": []
          },
          "execution_count": 119
        }
      ]
    },
    {
      "cell_type": "code",
      "metadata": {
        "id": "_DkQDeOyv7RR"
      },
      "source": [
        "#Mul NB giving 79% accuracy where Logisitic regression gave 78% accuracy using tfidfvectorizer"
      ],
      "execution_count": 120,
      "outputs": []
    },
    {
      "cell_type": "code",
      "metadata": {
        "id": "NMCIk3auwXbA"
      },
      "source": [
        ""
      ],
      "execution_count": null,
      "outputs": []
    }
  ]
}